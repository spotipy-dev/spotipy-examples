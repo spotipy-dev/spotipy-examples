{
 "cells": [
  {
   "cell_type": "markdown",
   "metadata": {},
   "source": [
    "# Showcases"
   ]
  },
  {
   "cell_type": "markdown",
   "metadata": {},
   "source": [
    "A series of showcase for the spotipy application."
   ]
  },
  {
   "attachments": {},
   "cell_type": "markdown",
   "metadata": {},
   "source": [
    "## Summary\n",
    "\n",
    "The current summary follows the index order of the official Spotify Documentation. So, you can directly check how to use Spotipy for each Spotify API defined in the Spotify reference page.\n",
    "\n",
    "- [Setup](#Setup)\n",
    "- [Imports](#Imports)\n",
    "- [Examples](#Examples)\n",
    "    - [Credentials](#Credentials)\n",
    "    - [Albums](#Albums)\n",
    "        - Get Album Info\n",
    "        - Get Several Album\n",
    "        - Get Albums Tracks\n",
    "        - Get Saved Albums\n",
    "        - Save Albums for Current User\n",
    "        - Remove Users' Saved Albums\n",
    "        - Check Users' Saved Albums\n",
    "        - Get New Release\n",
    "    - [Artists](#Artists)\n",
    "        - Get Artist Info\n",
    "        - Get Several Artists\n",
    "        - Get Artist's Albums\n",
    "        - Get Artist's Top Tracks\n",
    "        - Get Artist's Related Artists\n",
    "    - [Shows](#Shows)\n",
    "        - Get Show Info\n",
    "        - Get Several Shows\n",
    "        - Get Show Episodes\n",
    "        - Get User's Saved Shows\n",
    "        - Save Show for the Current User\n",
    "        - Remove User's Saved Albums\n",
    "        - Check User's Saved Shows\n",
    "    - [Episodes](#Episodes)\n",
    "        - Get Episode\n",
    "        - Get Several Episodes\n",
    "        - Get User's Saved Episodes\n",
    "        - Save Episodes for Current User\n",
    "        - Remove User's Saved Episodes\n",
    "        - Check User's Saved Episodes\n",
    "    - [Tracks](#Tracks)\n",
    "        - Get Track Info\n",
    "        - Get Several Tracks\n",
    "        - Get User's Saved Tracks\n",
    "        - Save Tracks for Current User\n",
    "        - Remove User's Saved Tracks\n",
    "        - Check User's Saved Tracks\n",
    "        - Get Track's Audio Features\n",
    "        - Get Several Tracks Audio Features\n",
    "        - Get Track's Audio Analysis\n",
    "    - [Recommendations](#Recommendations)\n",
    "        - Get Recommendations\n",
    "    - [Search](#Search)\n",
    "        - Search for items\n",
    "    - [Users](#Users)\n",
    "        - Get Current User's Profile\n",
    "        - Get User's Top Items\n",
    "            - Artist\n",
    "            - Track\n",
    "        - Follow Playlist\n",
    "        - Unfollow Playlist\n",
    "        - Get Followed Artists\n",
    "        - Follow Artists or Users\n",
    "        - Unfollow Artists or Users\n",
    "        - Check if User Follows Artists or Users\n",
    "        - Check if User Follow Playlist\n",
    "    -  [Playlists](#Playlists)\n",
    "        - Get Playlist\n",
    "        - Change Playlist Details\n",
    "        - Get Playlist Items\n",
    "        - Add Items to Playlist\n",
    "        - Update Playlist Items\n",
    "        - Remove Playlist Items\n",
    "        - Get Current User's Playlists\n",
    "        - Get User's Playlists\n",
    "        - Create Playlist\n",
    "        - Get Features Playlists\n",
    "        - Get Category's Playlists\n",
    "        - Get Playlist Cover Image\n",
    "        - Add Custom Playlist Cover Image\n",
    "    -   [Categories](#Categories)\n",
    "        - Get Several Browse Categories\n",
    "        - Get Single Browse Category\n",
    "    -   [Genres](#Genres)\n",
    "        - Get Available Genre Seeds\n",
    "    - [Player](#Player) \n",
    "        - Get Playback State\n",
    "        - Transfer Playback\n",
    "        - Get Available Devices\n",
    "        - Get Currently Playing Track\n",
    "        - Start/Resume Playback\n",
    "        - Pause Playback\n",
    "        - Skip To Next\n",
    "        - Skip To Previous\n",
    "        - Seek To Position\n",
    "        - Set Repeat Mode\n",
    "        - Set Playback Volume\n",
    "        -  Toggle Playback Shuffle\n",
    "        - Get Recently Played Tracks\n",
    "        - Get the User's Queue\n",
    "        - Add Item to Playback Queue\n",
    "    - [Markets](#Markets)\n",
    "        - Get Available Markets\n",
    "\n"
   ]
  },
  {
   "cell_type": "markdown",
   "metadata": {},
   "source": [
    "## Setup\n",
    "The initial setup provides a virtual environmet where you can install spotipy for the current showcases. Do it before running any of the examples above.\n"
   ]
  },
  {
   "cell_type": "code",
   "execution_count": null,
   "metadata": {},
   "outputs": [],
   "source": [
    "# initialize the virtual environment\n",
    "!python3 -m venv env"
   ]
  },
  {
   "cell_type": "code",
   "execution_count": null,
   "metadata": {},
   "outputs": [],
   "source": [
    "# depending on the type of configuration environment, you can select the virtual environment\n",
    "# automatically or executing the following instruction:\n",
    "!source env/bin/activate"
   ]
  },
  {
   "cell_type": "code",
   "execution_count": null,
   "metadata": {},
   "outputs": [],
   "source": [
    "# after activing the virtual environment, you can directly install dependencies with the following instruction\n",
    "!pip install -r requirements.txt"
   ]
  },
  {
   "cell_type": "markdown",
   "metadata": {},
   "source": [
    "Check the environment usage and select the generated venv. \n",
    "Furthermore, if you want to run some of the code below, you have to set some environment variables:\n",
    "```bash\n",
    "!export SPOTIPY_CLIENT_ID=client_id_here\n",
    "!export SPOTIPY_CLIENT_SECRET=client_secret_here\n",
    "!export SPOTIPY_CLIENT_USERNAME=client_username_here # This is actually an id not spotify display name\n",
    "!export SPOTIPY_REDIRECT_URI=http://127.0.0.1:8080 # Make url is set in app you created to get your ID and SECRET\n",
    "```"
   ]
  },
  {
   "cell_type": "markdown",
   "metadata": {},
   "source": [
    "Alternatively, you can set them into the following notebook variables:"
   ]
  },
  {
   "cell_type": "markdown",
   "metadata": {},
   "source": [
    "Check <a href=\"https://spotipy.readthedocs.io/en/2.22.1/#installation\">Spotipy documentation</a> for more info."
   ]
  },
  {
   "cell_type": "code",
   "execution_count": null,
   "metadata": {},
   "outputs": [],
   "source": [
    "import spotipy\n",
    "import time\n",
    "import os\n",
    "import json\n",
    "from pprint import pprint"
   ]
  },
  {
   "cell_type": "markdown",
   "metadata": {},
   "source": [
    "# Examples"
   ]
  },
  {
   "cell_type": "markdown",
   "metadata": {},
   "source": [
    "## Credentials"
   ]
  },
  {
   "attachments": {},
   "cell_type": "markdown",
   "metadata": {},
   "source": [
    "Credentials are essential to perform any of the Spotipy functions over the Spotify API usage. So, you need to run the following snippet of code and get an authenticated session for the Spotipy examples."
   ]
  },
  {
   "cell_type": "code",
   "execution_count": null,
   "metadata": {},
   "outputs": [],
   "source": [
    "# if you have the environment variables defined in the initial setup, you can also avoid to specify parameters \n",
    "# inside the SpotifyClientCredentials method.\n",
    "client_credentials_manager = spotipy.oauth2.SpotifyClientCredentials(SPOTIPY_CLIENT_ID, SPOTIPY_CLIENT_SECRET) \n",
    "sp = spotipy.Spotify(client_credentials_manager=client_credentials_manager)"
   ]
  },
  {
   "attachments": {},
   "cell_type": "markdown",
   "metadata": {},
   "source": [
    "Alternatively, we can initialize the Spotify client using environment global specified by the export instruction above. This solution provides an initialization of the Spotipy client without specify the user credentials."
   ]
  },
  {
   "cell_type": "code",
   "execution_count": null,
   "metadata": {},
   "outputs": [],
   "source": [
    "client_credentials_manager = spotipy.oauth2.SpotifyClientCredentials() \n",
    "sp = spotipy.Spotify(client_credentials_manager=client_credentials_manager)"
   ]
  },
  {
   "attachments": {},
   "cell_type": "markdown",
   "metadata": {},
   "source": [
    "Warning: For some operation, we need to specify the the authorization scope, we can check the list of scope types with the related operations in the [official Spotify API documentation](https://developer.spotify.com/documentation/general/guides/authorization/scopes/). The following example defines the Spotipy client with an explicit definition of the authorization scope:"
   ]
  },
  {
   "cell_type": "code",
   "execution_count": null,
   "metadata": {},
   "outputs": [],
   "source": [
    "scope=\"{scope_here}\"\n",
    "client_credentials_manager = spotipy.oauth2.SpotifyClientCredentials() \n",
    "sp = spotipy.Spotify(client_credentials_manager=client_credentials_manager, oauth_manager=spotipy.oauth2.SpotifyOAuth(scope=scope))"
   ]
  },
  {
   "cell_type": "markdown",
   "metadata": {},
   "source": [
    "## Albums"
   ]
  },
  {
   "cell_type": "markdown",
   "metadata": {},
   "source": [
    "Go back to the [summary](#Summary) to select another example."
   ]
  },
  {
   "attachments": {},
   "cell_type": "markdown",
   "metadata": {},
   "source": [
    "### Get Album Info\n",
    "Get Spotify catalog information for a single album.\n"
   ]
  },
  {
   "cell_type": "code",
   "execution_count": null,
   "metadata": {},
   "outputs": [],
   "source": [
    "# urn can be a URI, URL or ID of the album\n",
    "urn = 'spotify:album:5yTx83u3qerZF7GRJu7eFk'\n",
    "# retrieves album information in json format\n",
    "album = sp.album(urn)\n",
    "# formatted print of the result\n",
    "pprint(album)"
   ]
  },
  {
   "attachments": {},
   "cell_type": "markdown",
   "metadata": {},
   "source": [
    "### Get Several Albums\n",
    "Get Spotify catalog information for multiple albums identified by their Spotify IDs."
   ]
  },
  {
   "cell_type": "code",
   "execution_count": null,
   "metadata": {},
   "outputs": [],
   "source": [
    "# define the list of Spotify IDs related to the input albums\n",
    "ids = \"382ObEPsp2rxGrnsizN5TX,1A2GTWGtFfWp7KSQTwWOyo,2noRn2Aes5aoNVsU6iWThc\".split(',')\n",
    "# retrieves the collection of albums in json format\n",
    "albums = sp.albums(ids)\n",
    "# formatted print of the result\n",
    "pprint(albums)"
   ]
  },
  {
   "attachments": {},
   "cell_type": "markdown",
   "metadata": {},
   "source": [
    "### Get Album Tracks\n",
    "Get Spotify catalog information about an album’s tracks. Optional parameters can be used to limit the number of tracks returned."
   ]
  },
  {
   "cell_type": "code",
   "execution_count": null,
   "metadata": {},
   "outputs": [],
   "source": [
    "# specify the URL, URI or ID of the input album\n",
    "album_id = \"4aawyAB9vmqN3uQ7FjRGTy\"\n",
    "# get information about the album tracks\n",
    "tracks = sp.album_tracks(album_id)\n",
    "# formatted print of the result\n",
    "pprint(tracks)"
   ]
  },
  {
   "attachments": {},
   "cell_type": "markdown",
   "metadata": {},
   "source": [
    "### Get User's Saved Albums\n",
    "Get a list of the albums saved in the current Spotify user's 'Your Music' library."
   ]
  },
  {
   "cell_type": "code",
   "execution_count": null,
   "metadata": {},
   "outputs": [],
   "source": [
    "# define the read scope\n",
    "scope = 'user-library-read' \n",
    "# update the client object with the correct scope\n",
    "sp = spotipy.Spotify(auth_manager=spotipy.oauth2.SpotifyOAuth(client_id=SPOTIPY_CLIENT_ID,\n",
    "                                                              client_secret=SPOTIPY_CLIENT_SECRET,\n",
    "                                                              redirect_uri=SPOTIPY_REDIRECT_URI,\n",
    "                                                              scope=scope))\n",
    "# execute read operation on saved albums\n",
    "sp.current_user_saved_albums()"
   ]
  },
  {
   "attachments": {},
   "cell_type": "markdown",
   "metadata": {},
   "source": [
    "### Save Albums for Current User\n",
    "Save one or more albums to the current user's 'Your Music' library.\n"
   ]
  },
  {
   "cell_type": "code",
   "execution_count": null,
   "metadata": {},
   "outputs": [],
   "source": [
    "# adding the album ids to save in user saved albums\n",
    "album_ids = \"4g1ZRSobMefqF6nelkgibi,1A2GTWGtFfWp7KSQTwWOyo\".split(',')\n",
    "# modify the scope for the current operation\n",
    "scope = 'user-library-modify'\n",
    "# modify the client scope\n",
    "sp = spotipy.Spotify(auth_manager=spotipy.oauth2.SpotifyOAuth(client_id=SPOTIPY_CLIENT_ID,\n",
    "                                                              client_secret=SPOTIPY_CLIENT_SECRET,\n",
    "                                                              redirect_uri=SPOTIPY_REDIRECT_URI,\n",
    "                                                              scope=scope))\n",
    "# adding the saved albums specified in the list of ids given in input\n",
    "sp.current_user_saved_albums_add(albums=album_ids)"
   ]
  },
  {
   "attachments": {},
   "cell_type": "markdown",
   "metadata": {},
   "source": [
    "### Remove Users' Saved Albums\n",
    "Remove one or more albums from the current user's 'Your Music' library.\n"
   ]
  },
  {
   "cell_type": "code",
   "execution_count": null,
   "metadata": {},
   "outputs": [],
   "source": [
    "# if the current ids are not available in the user saved albums, the delete operation has no effect\n",
    "album_ids = \"382ObEPsp2rxGrnsizN5TX,1A2GTWGtFfWp7KSQTwWOyo,2noRn2Aes5aoNVsU6iWThc\".split(',')\n",
    "# change the scope to have authorization for the user delete operation\n",
    "scope='user-library-modify'\n",
    "# reinit the client object with the correct scope\n",
    "sp = spotipy.Spotify(auth_manager=spotipy.oauth2.SpotifyOAuth(client_id=SPOTIPY_CLIENT_ID, client_secret=SPOTIPY_CLIENT_SECRET, redirect_uri=SPOTIPY_REDIRECT_URI, scope=scope))\n",
    "# execute operation\n",
    "sp.current_user_saved_albums_delete(album_ids)"
   ]
  },
  {
   "attachments": {},
   "cell_type": "markdown",
   "metadata": {},
   "source": [
    "### Check User's Saved Albums\n",
    "Check if one or more albums is already saved in the current Spotify user's 'Your Music' library.\n"
   ]
  },
  {
   "cell_type": "code",
   "execution_count": null,
   "metadata": {},
   "outputs": [],
   "source": [
    "# define the list of albums to verify \n",
    "album_ids = \"382ObEPsp2rxGrnsizN5TX,1A2GTWGtFfWp7KSQTwWOyo,2noRn2Aes5aoNVsU6iWThc\".split(',')\n",
    "# redefine the Spotipy client with the correct authorization scope\n",
    "scope=\"user-library-read\"\n",
    "sp = spotipy.Spotify(auth_manager=spotipy.oauth2.SpotifyOAuth(client_id=SPOTIPY_CLIENT_ID,\n",
    "                                                              client_secret=SPOTIPY_CLIENT_SECRET,\n",
    "                                                              redirect_uri=SPOTIPY_REDIRECT_URI,\n",
    "                                                              scope=scope))\n",
    "# check the existence of albums id inside the user saved albums collection\n",
    "checks = sp.current_user_saved_albums_contains(albums=album_ids)\n",
    "if checks != None:\n",
    "    # print results\n",
    "    for i in range(len(album_ids)):\n",
    "        print(f\"{album_ids[i]} => {checks[i]}\")"
   ]
  },
  {
   "attachments": {},
   "cell_type": "markdown",
   "metadata": {},
   "source": [
    "### Get New Release\n",
    "Get a list of new album releases featured in Spotify (shown, for example, on a Spotify player’s “Browse” tab)."
   ]
  },
  {
   "cell_type": "code",
   "execution_count": null,
   "metadata": {},
   "outputs": [],
   "source": [
    "# get new release\n",
    "response = sp.new_releases()\n",
    "# print album name of new releases \n",
    "while response:\n",
    "    albums = response['albums']\n",
    "    for i, item in enumerate(albums['items']):\n",
    "        print(albums['offset'] + i, item['name'])\n",
    "\n",
    "    if albums['next']:\n",
    "        response = sp.next(albums)\n",
    "    else:\n",
    "        response = None"
   ]
  },
  {
   "cell_type": "markdown",
   "metadata": {},
   "source": [
    "## Artists"
   ]
  },
  {
   "cell_type": "markdown",
   "metadata": {},
   "source": [
    "Go back to the [summary](#Summary) to select another example."
   ]
  },
  {
   "attachments": {},
   "cell_type": "markdown",
   "metadata": {},
   "source": [
    "### Get Artist\n",
    "Get Spotify catalog information for a single artist identified by their unique Spotify ID.\n"
   ]
  },
  {
   "cell_type": "code",
   "execution_count": null,
   "metadata": {},
   "outputs": [],
   "source": [
    "# specify the URL, URI or ID of the input artist\n",
    "artist_id = \"0TnOYISbd1XYRBk9myaseg\"\n",
    "# get information about the artist \n",
    "artist = sp.artist(artist_id)\n",
    "# formatted print of the result\n",
    "pprint(artist)"
   ]
  },
  {
   "attachments": {},
   "cell_type": "markdown",
   "metadata": {},
   "source": [
    "### Get Several Artists\n",
    "Get Spotify catalog information for several artists based on their Spotify IDs.\n"
   ]
  },
  {
   "cell_type": "code",
   "execution_count": null,
   "metadata": {},
   "outputs": [],
   "source": [
    "artists_ids = \"2CIMQHirSU0MQqyYHq0eOx,57dN52uHvrHOxijzpIgu3E,1vCWHaC5f2uS3yhpwWbIA6\".split(',')\n",
    "list_artist = sp.artists(artists_ids)\n",
    "pprint(list_artist)"
   ]
  },
  {
   "attachments": {},
   "cell_type": "markdown",
   "metadata": {},
   "source": [
    "### Get Artist's Album\n",
    "Get Spotify catalog information about an artist's albums.\n"
   ]
  },
  {
   "cell_type": "code",
   "execution_count": null,
   "metadata": {},
   "outputs": [],
   "source": [
    "# specify the URL, URI or ID of the input artist\n",
    "artist_id = \"0TnOYISbd1XYRBk9myaseg\"\n",
    "# get information about the artist's albums\n",
    "artist_albums = sp.artist_albums(artist_id)\n",
    "# select the album names \n",
    "i = 1\n",
    "if artist_albums != None:\n",
    "# item specify a collection of information related to each artist's album\n",
    "    for item in artist_albums['items']:\n",
    "        print(f\"{i}: {item['name']}\")\n",
    "        i += 1\n"
   ]
  },
  {
   "attachments": {},
   "cell_type": "markdown",
   "metadata": {},
   "source": [
    "### Get Artist's Top Track\n",
    "Get Spotify catalog information about an artist's top tracks by country."
   ]
  },
  {
   "cell_type": "code",
   "execution_count": null,
   "metadata": {},
   "outputs": [],
   "source": [
    "# specify the URL, URI or ID of the input artist\n",
    "artist_id = \"0TnOYISbd1XYRBk9myaseg\"\n",
    "# get information about the top 10 tracks of an artist, \n",
    "# if country is not specify, top tracks are related to global classification\n",
    "artist_top_tracks = sp.artist_top_tracks(artist_id)\n",
    "# select the top 10 track names\n",
    "i = 1\n",
    "if artist_top_tracks != None:\n",
    "    for track in artist_top_tracks['tracks']:\n",
    "        print(f\"{i}: {track['name']}\")\n",
    "        i += 1\n"
   ]
  },
  {
   "attachments": {},
   "cell_type": "markdown",
   "metadata": {},
   "source": [
    "### Get Artist's Related Artists\n",
    "Get Spotify catalog information about artists similar to a given artist. Similarity is based on analysis of the Spotify community's listening history."
   ]
  },
  {
   "cell_type": "code",
   "execution_count": null,
   "metadata": {},
   "outputs": [],
   "source": [
    "# specify the URL, URI or ID of the input artist\n",
    "artist_id = \"0TnOYISbd1XYRBk9myaseg\"\n",
    "artist = sp.artist(artist_id)\n",
    "if artist != None:\n",
    "    name_artist = artist['name']\n",
    "    print(\"Artist name: \" + name_artist + \"\\nRelated Artist:\")\n",
    "    related_artist = sp.artist_related_artists(artist_id)\n",
    "    i = 1\n",
    "    if related_artist != None:\n",
    "        for artist in related_artist[\"artists\"]:\n",
    "            print(f\"{i}: {artist['name']}\")\n",
    "            i+= 1"
   ]
  },
  {
   "cell_type": "markdown",
   "metadata": {},
   "source": [
    "## Shows"
   ]
  },
  {
   "cell_type": "markdown",
   "metadata": {},
   "source": [
    "Go back to the [summary](#Summary) to select another example."
   ]
  },
  {
   "attachments": {},
   "cell_type": "markdown",
   "metadata": {},
   "source": [
    "### Get Show\n",
    "Get Spotify catalog information for a single show identified by its unique Spotify ID."
   ]
  },
  {
   "cell_type": "code",
   "execution_count": null,
   "metadata": {},
   "outputs": [],
   "source": [
    "# specify the URL, URI or ID of the input show\n",
    "show_id = \"38bS44xjbVVZ3No3ByF1dJ\"\n",
    "show = sp.show(show_id)\n",
    "pprint(show)"
   ]
  },
  {
   "attachments": {},
   "cell_type": "markdown",
   "metadata": {},
   "source": [
    "### Get Several Show\n",
    "Get Spotify catalog information for several shows based on their Spotify IDs."
   ]
  },
  {
   "cell_type": "code",
   "execution_count": null,
   "metadata": {},
   "outputs": [],
   "source": [
    "show_ids = \"5CfCWKI5pZ28U0uOzXkDHe,5as3aKmN2k11yfDDDSrvaZ\".split(\",\")\n",
    "shows = sp.shows(show_ids)\n",
    "if shows != None:\n",
    "    collection = shows[\"shows\"]\n",
    "    # you can retrieve the single information of the collection of shows as well as for the single show call API\n",
    "    for show in collection:\n",
    "        print(f\"Show with id: {show['id']}:\")\n",
    "        print(f\"Name: {show['name']}\")\n",
    "        print(f\"Total Episodes: {show['total_episodes']}\")\n",
    "        print(f\"Publisher: {show['publisher']}\")\n",
    "        print('-'*20)"
   ]
  },
  {
   "attachments": {},
   "cell_type": "markdown",
   "metadata": {},
   "source": [
    "### Get Show Episodes\n",
    "Get Spotify catalog information about an show’s episodes. Optional parameters can be used to limit the number of episodes returned."
   ]
  },
  {
   "cell_type": "code",
   "execution_count": null,
   "metadata": {},
   "outputs": [],
   "source": [
    "show_id = \"38bS44xjbVVZ3No3ByF1dJ\"\n",
    "episodes = sp.show_episodes(show_id)\n",
    "if episodes != None:\n",
    "    items = episodes[\"items\"]\n",
    "    print(\"Episode names:\")\n",
    "    i = 1\n",
    "    for item in items:\n",
    "        print(f\"{i}: {item['name']}\")\n",
    "        i+= 1"
   ]
  },
  {
   "attachments": {},
   "cell_type": "markdown",
   "metadata": {},
   "source": [
    "### Get User's Saved Show\n",
    "Get a list of shows saved in the current Spotify user's library. Optional parameters can be used to limit the number of shows returned."
   ]
  },
  {
   "cell_type": "code",
   "execution_count": null,
   "metadata": {},
   "outputs": [],
   "source": [
    "scope = \"user-library-read\"\n",
    "# update the client object with the correct scope\n",
    "sp = spotipy.Spotify(auth_manager=spotipy.oauth2.SpotifyOAuth(client_id=SPOTIPY_CLIENT_ID,\n",
    "                                                              client_secret=SPOTIPY_CLIENT_SECRET,\n",
    "                                                              redirect_uri=SPOTIPY_REDIRECT_URI,\n",
    "                                                              scope=scope))\n",
    "# execute read operation on saved shows\n",
    "sp.current_user_saved_shows()\n"
   ]
  },
  {
   "attachments": {},
   "cell_type": "markdown",
   "metadata": {},
   "source": [
    "### Save Shows for Current User\n",
    "Save one or more shows to current Spotify user's library.\n"
   ]
  },
  {
   "cell_type": "code",
   "execution_count": null,
   "metadata": {},
   "outputs": [],
   "source": [
    "show_ids = \"5CfCWKI5pZ28U0uOzXkDHe,5as3aKmN2k11yfDDDSrvaZ\".split(\",\")\n",
    "scope = \"user-library-modify\"\n",
    "# update the client object with the correct scope\n",
    "sp = spotipy.Spotify(auth_manager=spotipy.oauth2.SpotifyOAuth(client_id=SPOTIPY_CLIENT_ID,\n",
    "                                                              client_secret=SPOTIPY_CLIENT_SECRET,\n",
    "                                                              redirect_uri=SPOTIPY_REDIRECT_URI,\n",
    "                                                              scope=scope))\n",
    "sp.current_user_saved_shows_add(show_ids)"
   ]
  },
  {
   "attachments": {},
   "cell_type": "markdown",
   "metadata": {},
   "source": [
    "### Remove User's Saved Shows\n",
    "Delete one or more shows from current Spotify user's library.\n"
   ]
  },
  {
   "cell_type": "code",
   "execution_count": null,
   "metadata": {},
   "outputs": [],
   "source": [
    "show_ids = \"5CfCWKI5pZ28U0uOzXkDHe,5as3aKmN2k11yfDDDSrvaZ\".split(\",\")\n",
    "scope = \"user-library-modify\"\n",
    "# update the client object with the correct scope\n",
    "sp = spotipy.Spotify(auth_manager=spotipy.oauth2.SpotifyOAuth(client_id=SPOTIPY_CLIENT_ID,\n",
    "                                                              client_secret=SPOTIPY_CLIENT_SECRET,\n",
    "                                                              redirect_uri=SPOTIPY_REDIRECT_URI,\n",
    "                                                              scope=scope))\n",
    "sp.current_user_saved_shows_delete(show_ids)"
   ]
  },
  {
   "attachments": {},
   "cell_type": "markdown",
   "metadata": {},
   "source": [
    "### Check User's Saved Shows\n",
    "Check if one or more shows is already saved in the current Spotify user's library.\n"
   ]
  },
  {
   "cell_type": "code",
   "execution_count": null,
   "metadata": {},
   "outputs": [],
   "source": [
    "show_ids = \"5CfCWKI5pZ28U0uOzXkDHe,5as3aKmN2k11yfDDDSrvaZ\".split(\",\")\n",
    "scope = \"user-library-modify\"\n",
    "sp = spotipy.Spotify(auth_manager=spotipy.oauth2.SpotifyOAuth(client_id=SPOTIPY_CLIENT_ID,\n",
    "                                                              client_secret=SPOTIPY_CLIENT_SECRET,\n",
    "                                                              redirect_uri=SPOTIPY_REDIRECT_URI,\n",
    "                                                              scope=scope))\n",
    "sp.current_user_saved_shows_contains(show_ids)"
   ]
  },
  {
   "cell_type": "markdown",
   "metadata": {},
   "source": [
    "## Episodes"
   ]
  },
  {
   "cell_type": "markdown",
   "metadata": {},
   "source": [
    "Go back to the [summary](#Summary) to select another example."
   ]
  },
  {
   "attachments": {},
   "cell_type": "markdown",
   "metadata": {},
   "source": [
    "### Get Episode\n",
    "Get Spotify catalog information for a single episode identified by its unique Spotify ID.\n"
   ]
  },
  {
   "cell_type": "code",
   "execution_count": null,
   "metadata": {},
   "outputs": [],
   "source": [
    "episode_id = \"512ojhOuo1ktJprKbVcKyQ\"\n",
    "episode = sp.episode(episode_id)\n",
    "pprint(episode)"
   ]
  },
  {
   "attachments": {},
   "cell_type": "markdown",
   "metadata": {},
   "source": [
    "### Get Several Episodes\n",
    "Get Spotify catalog information for several episodes based on their Spotify IDs.\n"
   ]
  },
  {
   "cell_type": "code",
   "execution_count": null,
   "metadata": {},
   "outputs": [],
   "source": [
    "episode_ids = \"77o6BIVlYM3msb4MMIL1jH,0Q86acNRm6V9GYx55SXKwf\".split(\",\")\n",
    "episodes = sp.episodes(episode_ids)\n",
    "i = 1\n",
    "if episodes != None:\n",
    "    for ep in episodes['episodes']:\n",
    "        print(f\"{i}: {ep['name']}\")\n",
    "        i+= 1"
   ]
  },
  {
   "attachments": {},
   "cell_type": "markdown",
   "metadata": {},
   "source": [
    "### Get User's Saved Episodes\n",
    "Get a list of the episodes saved in the current Spotify user's library.\n",
    "This API endpoint is in beta and could change without warning."
   ]
  },
  {
   "cell_type": "code",
   "execution_count": null,
   "metadata": {},
   "outputs": [],
   "source": [
    "scope = \"user-library-read\"\n",
    "# update the client object with the correct scope\n",
    "sp = spotipy.Spotify(auth_manager=spotipy.oauth2.SpotifyOAuth(client_id=SPOTIPY_CLIENT_ID,\n",
    "                                                              client_secret=SPOTIPY_CLIENT_SECRET,\n",
    "                                                              redirect_uri=SPOTIPY_REDIRECT_URI,\n",
    "                                                              scope=scope))\n",
    "# execute read operation on saved shows\n",
    "sp.current_user_saved_episodes()"
   ]
  },
  {
   "attachments": {},
   "cell_type": "markdown",
   "metadata": {},
   "source": [
    "### Save Episodes for Current User"
   ]
  },
  {
   "attachments": {},
   "cell_type": "markdown",
   "metadata": {},
   "source": [
    "### Remove User's Saved Episodes\n",
    "Remove one or more episodes from the current user's library.\n",
    "This API endpoint is in beta and could change without warning."
   ]
  },
  {
   "cell_type": "code",
   "execution_count": null,
   "metadata": {},
   "outputs": [],
   "source": [
    "ep_ids = \"77o6BIVlYM3msb4MMIL1jH,0Q86acNRm6V9GYx55SXKwf\".split(\",\")\n",
    "scope = \"user-library-modify\"\n",
    "# update the client object with the correct scope\n",
    "sp = spotipy.Spotify(auth_manager=spotipy.oauth2.SpotifyOAuth(client_id=SPOTIPY_CLIENT_ID,\n",
    "                                                              client_secret=SPOTIPY_CLIENT_SECRET,\n",
    "                                                              redirect_uri=SPOTIPY_REDIRECT_URI,\n",
    "                                                              scope=scope))\n",
    "sp.current_user_saved_episodes_delete(ep_ids)"
   ]
  },
  {
   "attachments": {},
   "cell_type": "markdown",
   "metadata": {},
   "source": [
    "### Check User's Saved Episodes\n",
    "Check if one or more episodes is already saved in the current Spotify user's 'Your Episodes' library.\n",
    "This API endpoint is in beta and could change without warning."
   ]
  },
  {
   "cell_type": "code",
   "execution_count": null,
   "metadata": {},
   "outputs": [],
   "source": [
    "ep_ids = \"77o6BIVlYM3msb4MMIL1jH,0Q86acNRm6V9GYx55SXKwf\".split(\",\")\n",
    "scope = \"user-library-read\"\n",
    "sp = spotipy.Spotify(auth_manager=spotipy.oauth2.SpotifyOAuth(client_id=SPOTIPY_CLIENT_ID,\n",
    "                                                              client_secret=SPOTIPY_CLIENT_SECRET,\n",
    "                                                              redirect_uri=SPOTIPY_REDIRECT_URI,\n",
    "                                                              scope=scope))\n",
    "sp.current_user_saved_episodes_contains(ep_ids)"
   ]
  },
  {
   "attachments": {},
   "cell_type": "markdown",
   "metadata": {},
   "source": [
    "## Tracks"
   ]
  },
  {
   "cell_type": "markdown",
   "metadata": {},
   "source": [
    "Go back to the [summary](#Summary) to select another example."
   ]
  },
  {
   "attachments": {},
   "cell_type": "markdown",
   "metadata": {},
   "source": [
    "### Get a Track\n",
    "Get Spotify catalog information for a single track identified by its unique Spotify ID.\n"
   ]
  },
  {
   "cell_type": "code",
   "execution_count": null,
   "metadata": {},
   "outputs": [],
   "source": [
    "track_id = \"11dFghVXANMlKmJXsNCbNl\"\n",
    "track = sp.track(track_id)\n",
    "pprint(track)"
   ]
  },
  {
   "attachments": {},
   "cell_type": "markdown",
   "metadata": {},
   "source": [
    "### Get Several Tracks\n",
    "Get Spotify catalog information for multiple tracks based on their Spotify IDs.\n"
   ]
  },
  {
   "cell_type": "code",
   "execution_count": null,
   "metadata": {},
   "outputs": [],
   "source": [
    "track_ids = \"7ouMYWpwJ422jRcDASZB7P,4VqPOruhp5EdPBeR92t6lQ,2takcwOaAZWiXQijPHIx7B\".split(\",\")\n",
    "i = 1\n",
    "tracks = sp.tracks(track_ids)\n",
    "if tracks != None\n",
    "    for track in tracks['tracks']:\n",
    "        print(f\"{i}: {track['name']}\")\n",
    "        i+= 1"
   ]
  },
  {
   "attachments": {},
   "cell_type": "markdown",
   "metadata": {},
   "source": [
    "### Get User's Saved Tracks\n",
    "Get a list of the songs saved in the current Spotify user's 'Your Music' library.\n"
   ]
  },
  {
   "cell_type": "code",
   "execution_count": null,
   "metadata": {},
   "outputs": [],
   "source": [
    "scope = \"user-library-read\"\n",
    "# update the client object with the correct scope\n",
    "sp = spotipy.Spotify(auth_manager=spotipy.oauth2.SpotifyOAuth(client_id=SPOTIPY_CLIENT_ID,\n",
    "                                                              client_secret=SPOTIPY_CLIENT_SECRET,\n",
    "                                                              redirect_uri=SPOTIPY_REDIRECT_URI,\n",
    "                                                              scope=scope))\n",
    "# execute read operation on saved tracks\n",
    "sp.current_user_saved_tracks()"
   ]
  },
  {
   "attachments": {},
   "cell_type": "markdown",
   "metadata": {},
   "source": [
    "### Save Tracks for Current User\n",
    "Save one or more tracks to the current user's 'Your Music' library.\n"
   ]
  },
  {
   "cell_type": "code",
   "execution_count": null,
   "metadata": {},
   "outputs": [],
   "source": [
    "tracks_ids = \"7ouMYWpwJ422jRcDASZB7P,4VqPOruhp5EdPBeR92t6lQ,2takcwOaAZWiXQijPHIx7B\".split(\",\")\n",
    "scope = \"user-library-modify\"\n",
    "# update the client object with the correct scope\n",
    "sp = spotipy.Spotify(auth_manager=spotipy.oauth2.SpotifyOAuth(client_id=SPOTIPY_CLIENT_ID,\n",
    "                                                              client_secret=SPOTIPY_CLIENT_SECRET,\n",
    "                                                              redirect_uri=SPOTIPY_REDIRECT_URI,\n",
    "                                                              scope=scope))\n",
    "sp.current_user_saved_tracks_add(tracks_ids)"
   ]
  },
  {
   "attachments": {},
   "cell_type": "markdown",
   "metadata": {},
   "source": [
    "### Remove User's Saved Track\n",
    "Remove one or more tracks from the current user's 'Your Music' library.\n"
   ]
  },
  {
   "cell_type": "code",
   "execution_count": null,
   "metadata": {},
   "outputs": [],
   "source": [
    "tracks_ids = \"7ouMYWpwJ422jRcDASZB7P,4VqPOruhp5EdPBeR92t6lQ,2takcwOaAZWiXQijPHIx7B\".split(\",\")\n",
    "scope = \"user-library-modify\"\n",
    "# update the client object with the correct scope\n",
    "sp = spotipy.Spotify(auth_manager=spotipy.oauth2.SpotifyOAuth(client_id=SPOTIPY_CLIENT_ID,\n",
    "                                                              client_secret=SPOTIPY_CLIENT_SECRET,\n",
    "                                                              redirect_uri=SPOTIPY_REDIRECT_URI,\n",
    "                                                              scope=scope))\n",
    "sp.current_user_saved_tracks_delete(tracks_ids)"
   ]
  },
  {
   "attachments": {},
   "cell_type": "markdown",
   "metadata": {},
   "source": [
    "### Check User's Saved Track\n",
    "Check if one or more tracks is already saved in the current Spotify user's 'Your Music' library.\n"
   ]
  },
  {
   "cell_type": "code",
   "execution_count": null,
   "metadata": {},
   "outputs": [],
   "source": [
    "tracks_ids = \"7ouMYWpwJ422jRcDASZB7P,4VqPOruhp5EdPBeR92t6lQ,2takcwOaAZWiXQijPHIx7B\".split(\",\")\n",
    "scope = \"user-library-read\"\n",
    "# update the client object with the correct scope\n",
    "sp = spotipy.Spotify(auth_manager=spotipy.oauth2.SpotifyOAuth(client_id=SPOTIPY_CLIENT_ID,\n",
    "                                                              client_secret=SPOTIPY_CLIENT_SECRET,\n",
    "                                                              redirect_uri=SPOTIPY_REDIRECT_URI,\n",
    "                                                              scope=scope))\n",
    "sp.current_user_saved_tracks_contains(tracks_ids)"
   ]
  },
  {
   "attachments": {},
   "cell_type": "markdown",
   "metadata": {},
   "source": [
    "### Get Track's Audio Features\n",
    "Get audio features for multiple tracks based on their Spotify IDs.\n"
   ]
  },
  {
   "cell_type": "code",
   "execution_count": null,
   "metadata": {},
   "outputs": [],
   "source": [
    "tracks_ids = \"7ouMYWpwJ422jRcDASZB7P,4VqPOruhp5EdPBeR92t6lQ,2takcwOaAZWiXQijPHIx7B\".split(\",\")\n",
    "feats = sp.audio_features(tracks_ids)\n",
    "pprint(feats)"
   ]
  },
  {
   "attachments": {},
   "cell_type": "markdown",
   "metadata": {},
   "source": [
    "### Get Several Tracks Audio Features"
   ]
  },
  {
   "attachments": {},
   "cell_type": "markdown",
   "metadata": {},
   "source": [
    "### Get Track's Audio Analysis\n",
    "Get a low-level audio analysis for a track in the Spotify catalog. The audio analysis describes the track’s structure and musical content, including rhythm, pitch, and timbre."
   ]
  },
  {
   "cell_type": "code",
   "execution_count": null,
   "metadata": {},
   "outputs": [],
   "source": [
    "track_id = \"11dFghVXANMlKmJXsNCbNl\"\n",
    "start = time.time()\n",
    "analysis = sp.audio_analysis(track_id)\n",
    "delta = time.time() - start\n",
    "print(json.dumps(analysis, indent=4))\n",
    "print(\"Analysis retrieved in %.2f seconds\" % (delta,))"
   ]
  },
  {
   "attachments": {},
   "cell_type": "markdown",
   "metadata": {},
   "source": [
    "## Recommendations"
   ]
  },
  {
   "cell_type": "markdown",
   "metadata": {},
   "source": [
    "Go back to the [summary](#Summary) to select another example."
   ]
  },
  {
   "attachments": {},
   "cell_type": "markdown",
   "metadata": {},
   "source": [
    "### Get Recommendations\n",
    "Recommendations are generated based on the available information for a given seed entity and matched against similar artists and tracks. If there is sufficient information about the provided seeds, a list of tracks will be returned together with pool size details.\n",
    "\n",
    "For artists and tracks that are very new or obscure there might not be enough data to generate a list of tracks."
   ]
  },
  {
   "cell_type": "code",
   "execution_count": null,
   "metadata": {},
   "outputs": [],
   "source": [
    "# example with the artists seed\n",
    "seed_artists = \"2CIMQHirSU0MQqyYHq0eOx,57dN52uHvrHOxijzpIgu3E,1vCWHaC5f2uS3yhpwWbIA6\".split(',')\n",
    "rec_tracks_01 = sp.recommendations(seed_artists=seed_artists)\n",
    "print('Recommendations tracks by artist:')\n",
    "if rec_tracks_01 != None:\n",
    "    for track in rec_tracks_01['tracks'][:5]:\n",
    "        print(track['name'])\n"
   ]
  },
  {
   "cell_type": "code",
   "execution_count": null,
   "metadata": {},
   "outputs": [],
   "source": [
    "# Example with tracks seed\n",
    "seed_tracks = \"7ouMYWpwJ422jRcDASZB7P,4VqPOruhp5EdPBeR92t6lQ,2takcwOaAZWiXQijPHIx7B\".split(\",\")\n",
    "print('Recommendations tracks by tracks:')\n",
    "rec_tracks_02 = sp.recommendations(seed_tracks=seed_tracks)\n",
    "if rec_tracks_02 != None:\n",
    "    for track in rec_tracks_02['tracks'][:5]:\n",
    "        print(track['name'])"
   ]
  },
  {
   "cell_type": "code",
   "execution_count": null,
   "metadata": {},
   "outputs": [],
   "source": [
    "# example with genre seed\n",
    "seed_genres = \"hip hop,house,deep house\".split(\",\")\n",
    "print('Recommendations tracks by tracks:')\n",
    "rec_tracks_03 = sp.recommendations(seed_genres=seed_genres)\n",
    "if rec_tracks_03 != None:\n",
    "    for track in rec_tracks_03['tracks'][:5]:\n",
    "        print(track['name'])"
   ]
  },
  {
   "attachments": {},
   "cell_type": "markdown",
   "metadata": {},
   "source": [
    "## Search "
   ]
  },
  {
   "cell_type": "markdown",
   "metadata": {},
   "source": [
    "Go back to the [summary](#Summary) to select another example."
   ]
  },
  {
   "attachments": {},
   "cell_type": "markdown",
   "metadata": {},
   "source": [
    "### Search for item\n",
    "Get Spotify catalog information about albums, artists, playlists, tracks, shows or episodes that match a keyword string."
   ]
  },
  {
   "cell_type": "code",
   "execution_count": null,
   "metadata": {},
   "outputs": [],
   "source": [
    "# you can search as well as search engine into the Spotify application. \n",
    "# Output is related to a series of items according to the specified types.\n",
    "# Default type is track\n",
    "res = sp.search(\"remaster track: Doxy artist: Miles Davis\", type='track,artist')\n",
    "pprint(res)"
   ]
  },
  {
   "cell_type": "markdown",
   "metadata": {},
   "source": [
    "## Users "
   ]
  },
  {
   "cell_type": "markdown",
   "metadata": {},
   "source": [
    "Go back to the [summary](#Summary) to select another example."
   ]
  },
  {
   "attachments": {},
   "cell_type": "markdown",
   "metadata": {},
   "source": [
    "### Get Current User's Profile\n",
    "Get detailed profile information about the current user (including the current user's username)."
   ]
  },
  {
   "cell_type": "code",
   "execution_count": null,
   "metadata": {},
   "outputs": [],
   "source": [
    "# get personal information about the profile specified by the nickname of the current logged account\n",
    "profile = sp.me()\n",
    "pprint(profile)"
   ]
  },
  {
   "attachments": {},
   "cell_type": "markdown",
   "metadata": {},
   "source": [
    "### Get User's Top Items\n",
    "Get the current user's top artists or tracks based on calculated affinity.\n"
   ]
  },
  {
   "attachments": {},
   "cell_type": "markdown",
   "metadata": {},
   "source": [
    "#### Artist"
   ]
  },
  {
   "cell_type": "code",
   "execution_count": null,
   "metadata": {},
   "outputs": [],
   "source": [
    "tracks_ids = \"7ouMYWpwJ422jRcDASZB7P,4VqPOruhp5EdPBeR92t6lQ,2takcwOaAZWiXQijPHIx7B\".split(\",\")\n",
    "scope = \"user-top-read\"\n",
    "# update the client object with the correct scope\n",
    "sp = spotipy.Spotify(auth_manager=spotipy.oauth2.SpotifyOAuth(client_id=SPOTIPY_CLIENT_ID,\n",
    "                                                              client_secret=SPOTIPY_CLIENT_SECRET,\n",
    "                                                              redirect_uri=SPOTIPY_REDIRECT_URI,\n",
    "                                                              scope=scope))\n",
    "sp.current_user_top_artists(limit=2)"
   ]
  },
  {
   "attachments": {},
   "cell_type": "markdown",
   "metadata": {},
   "source": [
    "#### Track"
   ]
  },
  {
   "cell_type": "code",
   "execution_count": null,
   "metadata": {},
   "outputs": [],
   "source": [
    "tracks_ids = \"7ouMYWpwJ422jRcDASZB7P,4VqPOruhp5EdPBeR92t6lQ,2takcwOaAZWiXQijPHIx7B\".split(\",\")\n",
    "scope = \"user-top-read\"\n",
    "# update the client object with the correct scope\n",
    "sp = spotipy.Spotify(auth_manager=spotipy.oauth2.SpotifyOAuth(client_id=SPOTIPY_CLIENT_ID,\n",
    "                                                              client_secret=SPOTIPY_CLIENT_SECRET,\n",
    "                                                              redirect_uri=SPOTIPY_REDIRECT_URI,\n",
    "                                                              scope=scope))\n",
    "sp.current_user_top_tracks(limit=2)"
   ]
  },
  {
   "attachments": {},
   "cell_type": "markdown",
   "metadata": {},
   "source": [
    "### Follow Playlist\n",
    "Add the current user as a follower of a playlist.\n"
   ]
  },
  {
   "cell_type": "code",
   "execution_count": null,
   "metadata": {},
   "outputs": [],
   "source": [
    "playlist_id = \"3cEYpjA9oz9GiPac4AsH4n\"\n",
    "scope = \"playlist-modify-public\"\n",
    "sp = spotipy.Spotify(auth_manager=spotipy.oauth2.SpotifyOAuth(client_id=SPOTIPY_CLIENT_ID,\n",
    "                                                              client_secret=SPOTIPY_CLIENT_SECRET,\n",
    "                                                              redirect_uri=SPOTIPY_REDIRECT_URI,\n",
    "                                                              scope=scope))\n",
    "sp.current_user_follow_playlist(playlist_id)"
   ]
  },
  {
   "attachments": {},
   "cell_type": "markdown",
   "metadata": {},
   "source": [
    "### Unfollow Playlist\n",
    "Remove the current user as a follower of a playlist.\n"
   ]
  },
  {
   "cell_type": "code",
   "execution_count": null,
   "metadata": {},
   "outputs": [],
   "source": [
    "playlist_id = \"3cEYpjA9oz9GiPac4AsH4n\"\n",
    "scope = \"playlist-modify-public\"\n",
    "sp = spotipy.Spotify(auth_manager=spotipy.oauth2.SpotifyOAuth(client_id=SPOTIPY_CLIENT_ID,\n",
    "                                                              client_secret=SPOTIPY_CLIENT_SECRET,\n",
    "                                                              redirect_uri=SPOTIPY_REDIRECT_URI,\n",
    "                                                              scope=scope))\n",
    "sp.current_user_unfollow_playlist(playlist_id)"
   ]
  },
  {
   "attachments": {},
   "cell_type": "markdown",
   "metadata": {},
   "source": [
    "### Check if User Follows Artists or Users\n",
    "Add the current user as a follower of one or more artists or other Spotify users."
   ]
  },
  {
   "cell_type": "code",
   "execution_count": null,
   "metadata": {},
   "outputs": [],
   "source": [
    "ids = \"2CIMQHirSU0MQqyYHq0eOx,57dN52uHvrHOxijzpIgu3E,1vCWHaC5f2uS3yhpwWbIA6\".split(\",\")\n",
    "scope = \"user-follow-read\"\n",
    "sp = spotipy.Spotify(auth_manager=spotipy.oauth2.SpotifyOAuth(client_id=SPOTIPY_CLIENT_ID,\n",
    "                                                              client_secret=SPOTIPY_CLIENT_SECRET,\n",
    "                                                              redirect_uri=SPOTIPY_REDIRECT_URI,\n",
    "                                                              scope=scope))\n",
    "\n",
    "res = sp.current_user_following_users(ids)\n",
    "print(f\"The current user result on following user id: {ids}: {res}\")"
   ]
  },
  {
   "attachments": {},
   "cell_type": "markdown",
   "metadata": {},
   "source": [
    "### Check If User Follow Playlist\n",
    "Check to see if one or more Spotify users are following a specified playlist.\n"
   ]
  },
  {
   "cell_type": "code",
   "execution_count": null,
   "metadata": {},
   "outputs": [],
   "source": [
    "playlist_id = \"3cEYpjA9oz9GiPac4AsH4n\"\n",
    "scope = \"playlist-read-private\"\n",
    "sp = spotipy.Spotify(auth_manager=spotipy.oauth2.SpotifyOAuth(client_id=SPOTIPY_CLIENT_ID,\n",
    "                                                              client_secret=SPOTIPY_CLIENT_SECRET,\n",
    "                                                              redirect_uri=SPOTIPY_REDIRECT_URI,\n",
    "                                                              scope=scope))\n",
    "\n",
    "res = sp.current_user_follow_playlist(playlist_id)\n",
    "print(f\"Current user follows result on check follow playlist {playlist_id}: {res}\")"
   ]
  },
  {
   "cell_type": "markdown",
   "metadata": {},
   "source": [
    "## Playlists "
   ]
  },
  {
   "cell_type": "markdown",
   "metadata": {},
   "source": [
    "Go back to the [summary](#Summary) to select another example."
   ]
  },
  {
   "attachments": {},
   "cell_type": "markdown",
   "metadata": {},
   "source": [
    "### Get Playlist\n",
    "Get a playlist owned by a Spotify user.\n"
   ]
  },
  {
   "cell_type": "code",
   "execution_count": null,
   "metadata": {},
   "outputs": [],
   "source": [
    "playlist_id = \"3cEYpjA9oz9GiPac4AsH4n\"\n",
    "playlist = sp.playlist(playlist_id)\n",
    "pprint(playlist)"
   ]
  },
  {
   "attachments": {},
   "cell_type": "markdown",
   "metadata": {},
   "source": [
    "### Change Playlist Details\n",
    "Change a playlist's name and public/private state. (The user must, of course, own the playlist.)"
   ]
  },
  {
   "cell_type": "code",
   "execution_count": null,
   "metadata": {},
   "outputs": [],
   "source": [
    "playlist_id = \"3cEYpjA9oz9GiPac4AsH4n\"\n",
    "# private or public according to the playlist state\n",
    "scope = \"playlist-modify-private\" \n",
    "sp = spotipy.Spotify(auth_manager=spotipy.oauth2.SpotifyOAuth(client_id=SPOTIPY_CLIENT_ID,\n",
    "                                                              client_secret=SPOTIPY_CLIENT_SECRET,\n",
    "                                                              redirect_uri=SPOTIPY_REDIRECT_URI,\n",
    "                                                              scope=scope))\n",
    "\n",
    "sp.playlist_change_details(playlist_id, name=\"Test Playlist\")"
   ]
  },
  {
   "attachments": {},
   "cell_type": "markdown",
   "metadata": {},
   "source": [
    "### Get Playlist Items"
   ]
  },
  {
   "attachments": {},
   "cell_type": "markdown",
   "metadata": {},
   "source": [
    "### Add Items to Playlist"
   ]
  },
  {
   "attachments": {},
   "cell_type": "markdown",
   "metadata": {},
   "source": [
    "### Update Playlist Items"
   ]
  },
  {
   "attachments": {},
   "cell_type": "markdown",
   "metadata": {},
   "source": [
    "### Remove Playlist Items"
   ]
  },
  {
   "attachments": {},
   "cell_type": "markdown",
   "metadata": {},
   "source": [
    "### Get Current User's Playlists"
   ]
  },
  {
   "attachments": {},
   "cell_type": "markdown",
   "metadata": {},
   "source": [
    "### Get Current User's Playlists"
   ]
  },
  {
   "attachments": {},
   "cell_type": "markdown",
   "metadata": {},
   "source": [
    "### Get User's Playlists"
   ]
  },
  {
   "attachments": {},
   "cell_type": "markdown",
   "metadata": {},
   "source": [
    "### Create Playliist"
   ]
  },
  {
   "attachments": {},
   "cell_type": "markdown",
   "metadata": {},
   "source": [
    "### Get Features Playlists"
   ]
  },
  {
   "attachments": {},
   "cell_type": "markdown",
   "metadata": {},
   "source": [
    "### Get Category's Playlists"
   ]
  },
  {
   "attachments": {},
   "cell_type": "markdown",
   "metadata": {},
   "source": [
    "### Get Playlist Cover Image"
   ]
  },
  {
   "attachments": {},
   "cell_type": "markdown",
   "metadata": {},
   "source": [
    "### Add Custom Playlist Cover Image"
   ]
  },
  {
   "cell_type": "markdown",
   "metadata": {},
   "source": [
    "## Categories"
   ]
  },
  {
   "cell_type": "markdown",
   "metadata": {},
   "source": [
    "Go back to the [summary](#Summary) to select another example."
   ]
  },
  {
   "attachments": {},
   "cell_type": "markdown",
   "metadata": {},
   "source": [
    "### Get Several Browse Categories\n",
    "Get a list of categories used to tag items in Spotify (on, for example, the Spotify player’s “Browse” tab).\n"
   ]
  },
  {
   "cell_type": "code",
   "execution_count": null,
   "metadata": {},
   "outputs": [],
   "source": [
    "data = sp.categories()\n",
    "# get items\n",
    "if data != None:\n",
    "    categories = data['categories']['items']\n",
    "    for cat in categories:\n",
    "        print(cat['name'])"
   ]
  },
  {
   "attachments": {},
   "cell_type": "markdown",
   "metadata": {},
   "source": [
    "### Get Single Browse Category\n",
    "Get a single category used to tag items in Spotify (on, for example, the Spotify player’s “Browse” tab)."
   ]
  },
  {
   "cell_type": "code",
   "execution_count": null,
   "metadata": {},
   "outputs": [],
   "source": [
    "category_id = \"party\"\n",
    "data = sp.category(category_id)\n",
    "pprint(data)"
   ]
  },
  {
   "cell_type": "markdown",
   "metadata": {},
   "source": [
    "## Genres "
   ]
  },
  {
   "cell_type": "markdown",
   "metadata": {},
   "source": [
    "Go back to the [summary](#Summary) to select another example."
   ]
  },
  {
   "attachments": {},
   "cell_type": "markdown",
   "metadata": {},
   "source": [
    "### Get Availale Genre Seeds\n",
    "Retrieve a list of available genres seed parameter values for recommendations.\n"
   ]
  },
  {
   "cell_type": "code",
   "execution_count": null,
   "metadata": {},
   "outputs": [],
   "source": [
    "genre_seeds = sp.recommendation_genre_seeds()\n",
    "if genre_seeds != None:\n",
    "    genres = genre_seeds['genres']\n",
    "    for genre in genres:\n",
    "        print(genre)"
   ]
  },
  {
   "cell_type": "markdown",
   "metadata": {},
   "source": [
    "## Player "
   ]
  },
  {
   "cell_type": "markdown",
   "metadata": {},
   "source": [
    "Go back to the [summary](#Summary) to select another example."
   ]
  },
  {
   "attachments": {},
   "cell_type": "markdown",
   "metadata": {},
   "source": [
    "### Get Playback State\n",
    "Get information about the user’s current playback state, including track or episode, progress, and active device."
   ]
  },
  {
   "cell_type": "code",
   "execution_count": null,
   "metadata": {},
   "outputs": [],
   "source": [
    "scope = \"user-read-playback-state\"\n",
    "sp = spotipy.Spotify(auth_manager=spotipy.oauth2.SpotifyOAuth(client_id=SPOTIPY_CLIENT_ID,\n",
    "                                                              client_secret=SPOTIPY_CLIENT_SECRET,\n",
    "                                                              redirect_uri=SPOTIPY_REDIRECT_URI,\n",
    "                                                              scope=scope))\n",
    "sp.current_playback()"
   ]
  },
  {
   "attachments": {},
   "cell_type": "markdown",
   "metadata": {},
   "source": [
    "### Transfer Player\n",
    "Transfer playback to a new device and determine if it should start playing."
   ]
  },
  {
   "cell_type": "code",
   "execution_count": null,
   "metadata": {},
   "outputs": [],
   "source": [
    "# you can check the device_id on the available device function\n",
    "device_id = \"131a488c7831386a36f96c3451f15de0bfcbb7a2\" \n",
    "scope = \"user-modify-playback-state\"\n",
    "sp = spotipy.Spotify(auth_manager=spotipy.oauth2.SpotifyOAuth(client_id=SPOTIPY_CLIENT_ID,\n",
    "                                                              client_secret=SPOTIPY_CLIENT_SECRET,\n",
    "                                                              redirect_uri=SPOTIPY_REDIRECT_URI,\n",
    "                                                              scope=scope))\n",
    "sp.transfer_playback(device_id)"
   ]
  },
  {
   "attachments": {},
   "cell_type": "markdown",
   "metadata": {},
   "source": [
    "### Get Available Devices\n",
    "Get information about a user’s available devices.\n"
   ]
  },
  {
   "cell_type": "code",
   "execution_count": null,
   "metadata": {},
   "outputs": [],
   "source": [
    "# it can give you devices connected to your spotify account, \n",
    "# even if it is Google Assistant or Echo Dot for remote control\n",
    "scope = \"user-read-playback-state\"\n",
    "sp = spotipy.Spotify(auth_manager=spotipy.oauth2.SpotifyOAuth(client_id=SPOTIPY_CLIENT_ID,\n",
    "                                                              client_secret=SPOTIPY_CLIENT_SECRET,\n",
    "                                                              redirect_uri=SPOTIPY_REDIRECT_URI,\n",
    "                                                              scope=scope))\n",
    "data = sp.devices()\n",
    "if data != None:\n",
    "    devices = data['devices']\n",
    "    print(f\"Total Number of Devices: {len(devices)}\")\n",
    "    i = 1\n",
    "    for dev in devices:\n",
    "        print(f\"{i}: {dev['name']} with id: {dev['id']}\")\n",
    "        i+= 1\n"
   ]
  },
  {
   "attachments": {},
   "cell_type": "markdown",
   "metadata": {},
   "source": [
    "### Get Currently Playing Track\n",
    "Get the object currently being played on the user's Spotify account.\n"
   ]
  },
  {
   "cell_type": "code",
   "execution_count": null,
   "metadata": {},
   "outputs": [],
   "source": [
    "scope = \"user-read-playback-state\"\n",
    "sp = spotipy.Spotify(auth_manager=spotipy.oauth2.SpotifyOAuth(client_id=SPOTIPY_CLIENT_ID,\n",
    "                                                              client_secret=SPOTIPY_CLIENT_SECRET,\n",
    "                                                              redirect_uri=SPOTIPY_REDIRECT_URI,\n",
    "                                                              scope=scope))\n",
    "# you can get the metadata of the current track\n",
    "data = sp.current_user_playing_track()\n",
    "# these metadata contain a lot of information such as playing a single track or a playlist, \n",
    "# podcasts or other types of items. The current progress in the listining, references, timestamps and more.\n",
    "pprint(data)"
   ]
  },
  {
   "attachments": {},
   "cell_type": "markdown",
   "metadata": {},
   "source": [
    "### Start/Resume Playback\n",
    "Start a new context or resume current playback on the user's active device.\n"
   ]
  },
  {
   "cell_type": "code",
   "execution_count": null,
   "metadata": {},
   "outputs": [],
   "source": [
    "device_id = \"{write_device_id}\"  \n",
    "scope = \"user-modify-playback-state\"\n",
    "# you can start the cuurrent playback on a specific device\n",
    "sp = spotipy.Spotify(auth_manager=spotipy.oauth2.SpotifyOAuth(client_id=SPOTIPY_CLIENT_ID,\n",
    "                                                              client_secret=SPOTIPY_CLIENT_SECRET,\n",
    "                                                              redirect_uri=SPOTIPY_REDIRECT_URI,\n",
    "                                                              scope=scope))\n",
    "sp.start_playback(device_id)"
   ]
  },
  {
   "attachments": {},
   "cell_type": "markdown",
   "metadata": {},
   "source": [
    "### Pause Playback\n",
    "Pause playback on the user's account.\n"
   ]
  },
  {
   "cell_type": "code",
   "execution_count": null,
   "metadata": {},
   "outputs": [],
   "source": [
    "device_id = \"{write_device_id}\"  \n",
    "scope = \"user-modify-playback-state\"\n",
    "# you can start the current playback on a specific device\n",
    "sp = spotipy.Spotify(auth_manager=spotipy.oauth2.SpotifyOAuth(client_id=SPOTIPY_CLIENT_ID,\n",
    "                                                              client_secret=SPOTIPY_CLIENT_SECRET,\n",
    "                                                              redirect_uri=SPOTIPY_REDIRECT_URI,\n",
    "                                                              scope=scope))\n",
    "sp.pause_playback(device_id)"
   ]
  },
  {
   "attachments": {},
   "cell_type": "markdown",
   "metadata": {},
   "source": [
    "### Skip to Next\n",
    "Skips to next track in the user’s queue.\n",
    "\n"
   ]
  },
  {
   "cell_type": "code",
   "execution_count": null,
   "metadata": {},
   "outputs": [],
   "source": [
    "device_id = \"{write_device_id}\"  \n",
    "scope = \"user-modify-playback-state\"\n",
    "# you can start the cuurrent playback on a specific device\n",
    "sp = spotipy.Spotify(auth_manager=spotipy.oauth2.SpotifyOAuth(client_id=SPOTIPY_CLIENT_ID,\n",
    "                                                              client_secret=SPOTIPY_CLIENT_SECRET,\n",
    "                                                              redirect_uri=SPOTIPY_REDIRECT_URI,\n",
    "                                                              scope=scope))\n",
    "sp.next_track(device_id)"
   ]
  },
  {
   "attachments": {},
   "cell_type": "markdown",
   "metadata": {},
   "source": [
    "### Skip to Previous \n",
    "Skips to previous track in the user’s queue.\n"
   ]
  },
  {
   "cell_type": "code",
   "execution_count": null,
   "metadata": {},
   "outputs": [],
   "source": [
    "device_id = \"{write_device_id}\"  \n",
    "scope = \"user-modify-playback-state\"\n",
    "# you can start the cuurrent playback on a specific device\n",
    "sp = spotipy.Spotify(auth_manager=spotipy.oauth2.SpotifyOAuth(client_id=SPOTIPY_CLIENT_ID,\n",
    "                                                              client_secret=SPOTIPY_CLIENT_SECRET,\n",
    "                                                              redirect_uri=SPOTIPY_REDIRECT_URI,\n",
    "                                                              scope=scope))\n",
    "sp.previous_track(device_id)"
   ]
  },
  {
   "attachments": {},
   "cell_type": "markdown",
   "metadata": {},
   "source": [
    "### Seek To Position\n",
    "Seeks to the given position in the user’s currently playing track.\n"
   ]
  },
  {
   "cell_type": "code",
   "execution_count": null,
   "metadata": {},
   "outputs": [],
   "source": [
    "device_id = \"{write_device_id}\"  \n",
    "position_ms = 0 # the timestamp of the instant to go into the reproduction time flow\n",
    "scope = \"user-modify-playback-state\"\n",
    "# you can start the cuurrent playback on a specific device\n",
    "sp = spotipy.Spotify(auth_manager=spotipy.oauth2.SpotifyOAuth(client_id=SPOTIPY_CLIENT_ID,\n",
    "                                                              client_secret=SPOTIPY_CLIENT_SECRET,\n",
    "                                                              redirect_uri=SPOTIPY_REDIRECT_URI,\n",
    "                                                              scope=scope))\n",
    "\n",
    "sp.seek_track(0, device_id)"
   ]
  },
  {
   "attachments": {},
   "cell_type": "markdown",
   "metadata": {},
   "source": [
    "### Set Repeat Mode\n",
    "Set the repeat mode for the user's playback. Options are repeat-track, repeat-context, and off."
   ]
  },
  {
   "cell_type": "code",
   "execution_count": null,
   "metadata": {},
   "outputs": [],
   "source": [
    "device_id = \"{write_device_id}\"  \n",
    "state = \"track\" # the state can be track, context or off.\n",
    "scope = \"user-modify-playback-state\"\n",
    "# you can start the cuurrent playback on a specific device\n",
    "sp = spotipy.Spotify(auth_manager=spotipy.oauth2.SpotifyOAuth(client_id=SPOTIPY_CLIENT_ID,\n",
    "                                                              client_secret=SPOTIPY_CLIENT_SECRET,\n",
    "                                                              redirect_uri=SPOTIPY_REDIRECT_URI,\n",
    "                                                              scope=scope))\n",
    "\n",
    "sp.repeat(state, device_id)"
   ]
  },
  {
   "attachments": {},
   "cell_type": "markdown",
   "metadata": {},
   "source": [
    "### Set Playback Volume\n",
    "Set the volume for the user’s current playback device.\n"
   ]
  },
  {
   "cell_type": "code",
   "execution_count": null,
   "metadata": {},
   "outputs": [],
   "source": [
    "device_id = \"131a488c7831386a36f96c3451f15de0bfcbb7a2\"  \n",
    "volume = 50 # the percent of the volum of the playback\n",
    "scope = \"user-modify-playback-state\"\n",
    "# you can start the cuurrent playback on a specific device\n",
    "sp = spotipy.Spotify(auth_manager=spotipy.oauth2.SpotifyOAuth(client_id=SPOTIPY_CLIENT_ID,\n",
    "                                                              client_secret=SPOTIPY_CLIENT_SECRET,\n",
    "                                                              redirect_uri=SPOTIPY_REDIRECT_URI,\n",
    "                                                              scope=scope))\n",
    "\n",
    "sp.volume(volume, device_id)"
   ]
  },
  {
   "attachments": {},
   "cell_type": "markdown",
   "metadata": {},
   "source": [
    "### Toggle Playback Shuffle\n",
    "Toggle shuffle on or off for user’s playback."
   ]
  },
  {
   "cell_type": "code",
   "execution_count": null,
   "metadata": {},
   "outputs": [],
   "source": [
    "device_id = \"{write_device_id}\"  \n",
    "state = True # true means shuffle the user's playback, false value doesn't not shuffle it\n",
    "scope = \"user-modify-playback-state\"\n",
    "# you can start the cuurrent playback on a specific device\n",
    "sp = spotipy.Spotify(auth_manager=spotipy.oauth2.SpotifyOAuth(client_id=SPOTIPY_CLIENT_ID,\n",
    "                                                              client_secret=SPOTIPY_CLIENT_SECRET,\n",
    "                                                              redirect_uri=SPOTIPY_REDIRECT_URI,\n",
    "                                                              scope=scope))\n",
    "\n",
    "sp.shuffle(state, device_id)"
   ]
  },
  {
   "attachments": {},
   "cell_type": "markdown",
   "metadata": {},
   "source": [
    "### Get Recently Played Tracks\n",
    "Get tracks from the current user's recently played tracks. \n",
    "- **Note:** Currently doesn't support podcast episodes."
   ]
  },
  {
   "cell_type": "code",
   "execution_count": null,
   "metadata": {},
   "outputs": [],
   "source": [
    "scope = \"user-read-recently-played\"\n",
    "# you can start the cuurrent playback on a specific device\n",
    "sp = spotipy.Spotify(auth_manager=spotipy.oauth2.SpotifyOAuth(client_id=SPOTIPY_CLIENT_ID,\n",
    "                                                              client_secret=SPOTIPY_CLIENT_SECRET,\n",
    "                                                              redirect_uri=SPOTIPY_REDIRECT_URI,\n",
    "                                                              scope=scope))\n",
    "\n",
    "data = sp.current_user_recently_played()\n",
    "if data != None:\n",
    "    items = data['items']\n",
    "    print('Playing the following tracks:')\n",
    "    for item in items:\n",
    "        pprint(f\"{item['track']['name']} from {item['track']['artists'][0]['name']}\")"
   ]
  },
  {
   "attachments": {},
   "cell_type": "markdown",
   "metadata": {},
   "source": [
    "### Get the User's Queue\n",
    "Get the list of objects that make up the user's queue.\n"
   ]
  },
  {
   "cell_type": "code",
   "execution_count": null,
   "metadata": {},
   "outputs": [],
   "source": [
    "scope = \"user-read-playback-state\"\n",
    "# you can start the cuurrent playback on a specific device\n",
    "sp = spotipy.Spotify(auth_manager=spotipy.oauth2.SpotifyOAuth(client_id=SPOTIPY_CLIENT_ID,\n",
    "                                                              client_secret=SPOTIPY_CLIENT_SECRET,\n",
    "                                                              redirect_uri=SPOTIPY_REDIRECT_URI,\n",
    "                                                              scope=scope))\n",
    "\n",
    "sp.queue()"
   ]
  },
  {
   "attachments": {},
   "cell_type": "markdown",
   "metadata": {},
   "source": [
    "### Add Item to Playback Queue\n",
    "Add an item to the end of the user's current playback queue.\n"
   ]
  },
  {
   "cell_type": "code",
   "execution_count": null,
   "metadata": {},
   "outputs": [],
   "source": [
    "device_id = \"{write_device_id}\" # the device id where the playback is\n",
    "track_uri = \"spotify:track:4iV5W9uYEdYUVa79Axb7Rh\" # uri of the track to add in the queue\n",
    "scope = \"user-modify-playback-state\" \n",
    "# you can start the cuurrent playback on a specific device\n",
    "sp = spotipy.Spotify(auth_manager=spotipy.oauth2.SpotifyOAuth(client_id=SPOTIPY_CLIENT_ID,\n",
    "                                                              client_secret=SPOTIPY_CLIENT_SECRET,\n",
    "                                                              redirect_uri=SPOTIPY_REDIRECT_URI,\n",
    "                                                              scope=scope))\n",
    "sp.add_to_queue(track_uri, device_id)"
   ]
  },
  {
   "cell_type": "markdown",
   "metadata": {},
   "source": [
    "## Markets"
   ]
  },
  {
   "cell_type": "markdown",
   "metadata": {},
   "source": [
    "Go back to the [summary](#Summary) to select another example."
   ]
  },
  {
   "attachments": {},
   "cell_type": "markdown",
   "metadata": {},
   "source": [
    "### Get Available Markets\n",
    "Get the list of markets where Spotify is available.\n"
   ]
  },
  {
   "cell_type": "code",
   "execution_count": null,
   "metadata": {},
   "outputs": [],
   "source": [
    "data = sp.available_markets()\n",
    "if data != None:\n",
    "    markets = data['markets']\n",
    "    for market in markets:\n",
    "        print(market)"
   ]
  }
 ],
 "metadata": {
  "kernelspec": {
   "display_name": "Python 3",
   "language": "python",
   "name": "python3"
  },
  "language_info": {
   "codemirror_mode": {
    "name": "ipython",
    "version": 3
   },
   "file_extension": ".py",
   "mimetype": "text/x-python",
   "name": "python",
   "nbconvert_exporter": "python",
   "pygments_lexer": "ipython3",
   "version": "3.11.1"
  },
  "vscode": {
   "interpreter": {
    "hash": "1a1af0ee75eeea9e2e1ee996c87e7a2b11a0bebd85af04bb136d915cefc0abce"
   }
  }
 },
 "nbformat": 4,
 "nbformat_minor": 4
}
